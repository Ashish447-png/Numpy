{
 "cells": [
  {
   "cell_type": "code",
   "execution_count": 1,
   "id": "16a09493-19b0-4c11-8f52-890093e7f741",
   "metadata": {},
   "outputs": [],
   "source": [
    "import numpy as np "
   ]
  },
  {
   "cell_type": "markdown",
   "id": "8a6e1757-6975-412a-af08-c4138fcebb28",
   "metadata": {},
   "source": [
    "### 1. Create a NumPy array 'arr' of integers from 0 to 5 and print its data type. "
   ]
  },
  {
   "cell_type": "code",
   "execution_count": 6,
   "id": "abbf45ff-0b0e-40ca-a14d-865fbd25905a",
   "metadata": {},
   "outputs": [],
   "source": [
    "arr = np.array([0,1,2,3,4,5], dtype = int)"
   ]
  },
  {
   "cell_type": "code",
   "execution_count": 7,
   "id": "5fb78bf3-5435-4038-b219-0bc713af626f",
   "metadata": {},
   "outputs": [
    {
     "data": {
      "text/plain": [
       "array([0, 1, 2, 3, 4, 5])"
      ]
     },
     "execution_count": 7,
     "metadata": {},
     "output_type": "execute_result"
    }
   ],
   "source": [
    "arr"
   ]
  },
  {
   "cell_type": "markdown",
   "id": "b3ada88f-88a0-4d97-968d-d35b2d022f3e",
   "metadata": {},
   "source": [
    "### 2. Given a NumPy array 'arr', check if its data type is float64. \n",
    "arr = np.array([1.5, 2.6, 3.7])"
   ]
  },
  {
   "cell_type": "code",
   "execution_count": 14,
   "id": "f9085b18-939e-4f29-b90a-122c75bd29c3",
   "metadata": {},
   "outputs": [
    {
     "name": "stdout",
     "output_type": "stream",
     "text": [
      "False\n"
     ]
    }
   ],
   "source": [
    "arr = np.array([1,2,3,4,5])\n",
    "if (arr.dtype == np.float64):\n",
    "    print('True')\n",
    "   \n",
    "else:\n",
    "    print('False')"
   ]
  },
  {
   "cell_type": "markdown",
   "id": "946a5893-0408-44fd-b57b-cd627c2ac541",
   "metadata": {},
   "source": [
    "### 3.Create a NumPy array 'arr' with a data type of complex128 containing three complex numbers"
   ]
  },
  {
   "cell_type": "code",
   "execution_count": 15,
   "id": "73e0fb7a-1baf-4acd-a563-7c58fe582fb0",
   "metadata": {},
   "outputs": [],
   "source": [
    "arr = np.array([3+4j, 2+5j, 7+3j], dtype = np.complex128)"
   ]
  },
  {
   "cell_type": "code",
   "execution_count": 16,
   "id": "76713c55-5885-449a-88c4-196be7ed3072",
   "metadata": {},
   "outputs": [
    {
     "data": {
      "text/plain": [
       "array([3.+4.j, 2.+5.j, 7.+3.j])"
      ]
     },
     "execution_count": 16,
     "metadata": {},
     "output_type": "execute_result"
    }
   ],
   "source": [
    "arr"
   ]
  },
  {
   "cell_type": "markdown",
   "id": "f90cc6a7-216f-43e2-a9c0-4a43c61c57c0",
   "metadata": {},
   "source": [
    "### 4. Convert an existing NumPy array 'arr' of integers to float32 data type"
   ]
  },
  {
   "cell_type": "code",
   "execution_count": 19,
   "id": "a504072e-a468-41c9-ba1f-1e6b4c4d68dd",
   "metadata": {},
   "outputs": [
    {
     "data": {
      "text/plain": [
       "array([1., 2., 3., 4.], dtype=float32)"
      ]
     },
     "execution_count": 19,
     "metadata": {},
     "output_type": "execute_result"
    }
   ],
   "source": [
    "arr = np.array([1,2,3,4], dtype = int)\n",
    "np.float32(arr)"
   ]
  },
  {
   "cell_type": "markdown",
   "id": "a680ca25-41e4-4f15-bbe1-bf3940b5cb07",
   "metadata": {},
   "source": [
    "### 5.Given a NumPy array 'arr' with float64 data type, convert it to float32 to reduce decimal precision"
   ]
  },
  {
   "cell_type": "code",
   "execution_count": 27,
   "id": "b9fbb421-25b9-4064-abe7-443b7f1fd5c7",
   "metadata": {},
   "outputs": [
    {
     "data": {
      "text/plain": [
       "array([1.23456 , 6.235784, 7.23416 , 9.378727], dtype=float32)"
      ]
     },
     "execution_count": 27,
     "metadata": {},
     "output_type": "execute_result"
    }
   ],
   "source": [
    "arr = np.array([1.23456, 6.235784, 7.23416, 9.378727], dtype = np.float64)\n",
    "np.float32(arr)"
   ]
  },
  {
   "cell_type": "markdown",
   "id": "d97d9133-0125-407d-ae96-f69dda115710",
   "metadata": {},
   "source": [
    "### 6.Write a function array_attributes that takes a NumPy array as input and returns its shape, size, and data type"
   ]
  },
  {
   "cell_type": "code",
   "execution_count": 44,
   "id": "fa6acafc-0efb-4a0d-a848-1bf335f19c51",
   "metadata": {},
   "outputs": [
    {
     "name": "stdout",
     "output_type": "stream",
     "text": [
      "(Array shape is: (2, 3)) and (array size is: 6) and (array data type is: int32)\n"
     ]
    }
   ],
   "source": [
    "arr = np.array([[1,2,3],[4,5,6]])\n",
    "def array_attributes(arr):\n",
    "    return f\"(Array shape is: {arr.shape}) and (array size is: {arr.size}) and (array data type is: {arr.dtype})\"\n",
    "\n",
    "\n",
    "print(array_attributes(arr))"
   ]
  },
  {
   "cell_type": "markdown",
   "id": "a3154f29-baba-4aa3-a1ab-95deea88cc06",
   "metadata": {},
   "source": [
    "### 7.Create a function array_dimension that takes a NumPy array as input and returns its dimensionality"
   ]
  },
  {
   "cell_type": "code",
   "execution_count": 46,
   "id": "dff5a8e3-1f5d-4002-ab8a-572fffe02138",
   "metadata": {},
   "outputs": [
    {
     "name": "stdout",
     "output_type": "stream",
     "text": [
      "Array dimension is : 2\n"
     ]
    }
   ],
   "source": [
    "arr = np.array([[1,2,3],[4,5,6]])\n",
    "def array_dimension(arr):\n",
    "    return f\"Array dimension is : {arr.ndim}\"\n",
    "\n",
    "print(array_dimension(arr))"
   ]
  },
  {
   "cell_type": "markdown",
   "id": "f87ec99e-df04-47c5-baea-538214a57528",
   "metadata": {},
   "source": [
    "### 8. Design a function item_size_info that takes a NumPy array as input and returns the item size and the total \n",
    "### size in bytes."
   ]
  },
  {
   "cell_type": "code",
   "execution_count": 47,
   "id": "587df7e7-9890-45d5-a6c0-25a529cc7e29",
   "metadata": {},
   "outputs": [
    {
     "name": "stdout",
     "output_type": "stream",
     "text": [
      "Item size : 4, Total size: 24\n"
     ]
    }
   ],
   "source": [
    "arr = np.array([[1, 2, 3], [4, 5, 6]], dtype=np.int32)\n",
    "def item_size_info(arr):\n",
    "    item_size = arr.itemsize\n",
    "    item_bytes = arr.nbytes\n",
    "    return f\"Item size : {item_size}, Total size: {item_bytes}\"\n",
    "\n",
    "\n",
    "print(item_size_info(arr))"
   ]
  },
  {
   "cell_type": "markdown",
   "id": "ce961fb8-9ba1-402e-9534-85f0282e6930",
   "metadata": {},
   "source": [
    "### 9. Create a function array_strides that takes a NumPy array as input and returns the strides of the array"
   ]
  },
  {
   "cell_type": "code",
   "execution_count": 5,
   "id": "8e799738-be85-4c6f-b3fb-c266f0cbcc15",
   "metadata": {},
   "outputs": [
    {
     "name": "stdout",
     "output_type": "stream",
     "text": [
      "Array strides: (12, 4)\n"
     ]
    }
   ],
   "source": [
    "arr = np.array([[1, 2, 3], [4, 5, 6]])\n",
    "def array_strides(arr):\n",
    "    return f\"Array strides: {arr.strides}\"\n",
    "\n",
    "print(array_strides(arr))\n"
   ]
  },
  {
   "cell_type": "markdown",
   "id": "150ab088-39b9-49ac-8e23-27a2908ee56f",
   "metadata": {},
   "source": [
    "### 10. Design a function shape_stride_relationship that takes a NumPy array as input and returns the shape \n",
    "### and strides of the array."
   ]
  },
  {
   "cell_type": "code",
   "execution_count": 8,
   "id": "e13874c4-f9c2-4a1a-aa81-d40ade8fc587",
   "metadata": {},
   "outputs": [
    {
     "name": "stdout",
     "output_type": "stream",
     "text": [
      "Array strides: (12, 4) , Array shape is : (2, 3)\n"
     ]
    }
   ],
   "source": [
    "arr = np.array([[1, 2, 3], [4, 5, 6]])\n",
    "def array_shape_strides_relationship(arr):\n",
    "    return f\"Array strides: {arr.strides} , Array shape is : {arr.shape}\"\n",
    "\n",
    "print(array_shape_strides_relationship(arr))\n"
   ]
  },
  {
   "cell_type": "markdown",
   "id": "6e071051-e13d-48f7-85bd-6259240d1e02",
   "metadata": {},
   "source": [
    "### 11.Create a function `create_zeros_array` that takes an integer `n` as input and returns a NumPy array of \n",
    "### zeros with `n` elements"
   ]
  },
  {
   "cell_type": "code",
   "execution_count": 17,
   "id": "2f2915fb-a3ac-41a6-ad9a-a71060f19f63",
   "metadata": {},
   "outputs": [
    {
     "data": {
      "text/plain": [
       "array([[0., 0., 0.],\n",
       "       [0., 0., 0.],\n",
       "       [0., 0., 0.]])"
      ]
     },
     "execution_count": 17,
     "metadata": {},
     "output_type": "execute_result"
    }
   ],
   "source": [
    "def create_zeros_array(n,m):\n",
    "    return np.zeros((n,m))\n",
    "\n",
    "create_zeros_array(3,3)"
   ]
  },
  {
   "cell_type": "markdown",
   "id": "a60e9fd0-46f4-4477-af37-7254931ce654",
   "metadata": {},
   "source": [
    "### 12.Write a function `create_ones_matrix` that takes integers `rows` and `cols` as inputs and generates a 2D \n",
    "### NumPy array filled with ones of size `rows x cols`"
   ]
  },
  {
   "cell_type": "code",
   "execution_count": 15,
   "id": "fffcb813-65ec-435b-b62b-e6ca1f969886",
   "metadata": {},
   "outputs": [
    {
     "name": "stdin",
     "output_type": "stream",
     "text": [
      "Enter number of rows : 4\n",
      "Enter number of rows : 4\n"
     ]
    },
    {
     "data": {
      "text/plain": [
       "array([[1., 1., 1., 1.],\n",
       "       [1., 1., 1., 1.],\n",
       "       [1., 1., 1., 1.],\n",
       "       [1., 1., 1., 1.]])"
      ]
     },
     "execution_count": 15,
     "metadata": {},
     "output_type": "execute_result"
    }
   ],
   "source": [
    "def create_ones_matrix():\n",
    "    rows = int(input(\"Enter number of rows :\"))\n",
    "    column = int(input(\"Enter number of rows :\"))\n",
    "    return np.ones((rows,column))\n",
    "\n",
    "create_ones_matrix()"
   ]
  },
  {
   "cell_type": "markdown",
   "id": "6534990d-770f-4aca-81c6-807b9d0d00b3",
   "metadata": {},
   "source": [
    "###                                              OR"
   ]
  },
  {
   "cell_type": "code",
   "execution_count": 16,
   "id": "d6c10ab2-32aa-428d-9fd7-506167d2580c",
   "metadata": {},
   "outputs": [
    {
     "name": "stdin",
     "output_type": "stream",
     "text": [
      "Enter number of rows : 4\n",
      "Enter number of rows : 4\n"
     ]
    },
    {
     "data": {
      "text/plain": [
       "array([[1, 1, 1, 1],\n",
       "       [1, 1, 1, 1],\n",
       "       [1, 1, 1, 1],\n",
       "       [1, 1, 1, 1]])"
      ]
     },
     "execution_count": 16,
     "metadata": {},
     "output_type": "execute_result"
    }
   ],
   "source": [
    "def create_ones_matrix():\n",
    "    rows = int(input(\"Enter number of rows :\"))\n",
    "    column = int(input(\"Enter number of rows :\"))\n",
    "    return np.full((rows,column) , 1)\n",
    "\n",
    "create_ones_matrix()"
   ]
  },
  {
   "cell_type": "markdown",
   "id": "37924406-bee0-440b-9faa-585ccefe5507",
   "metadata": {},
   "source": [
    "### 13. Write a function `generate_range_array` that takes three integers start, stop, and step as arguments and \n",
    "### creates a NumPy array with a range starting from `start`, ending at stop (exclusive), and with the specified \n",
    "### `step`."
   ]
  },
  {
   "cell_type": "code",
   "execution_count": 14,
   "id": "2c882690-7f03-45bd-a72a-3c84ca4bffdf",
   "metadata": {},
   "outputs": [
    {
     "data": {
      "text/plain": [
       "array([0. , 0.2, 0.4, 0.6, 0.8, 1. , 1.2, 1.4, 1.6, 1.8, 2. , 2.2, 2.4,\n",
       "       2.6, 2.8, 3. , 3.2, 3.4, 3.6, 3.8, 4. , 4.2, 4.4, 4.6, 4.8, 5. ,\n",
       "       5.2, 5.4, 5.6, 5.8, 6. , 6.2, 6.4, 6.6, 6.8, 7. , 7.2, 7.4, 7.6,\n",
       "       7.8, 8. , 8.2, 8.4, 8.6, 8.8, 9. , 9.2, 9.4, 9.6, 9.8])"
      ]
     },
     "execution_count": 14,
     "metadata": {},
     "output_type": "execute_result"
    }
   ],
   "source": [
    "def generate_range_array(start, stop, step):\n",
    "    return np.arange(start, stop, step)\n",
    "\n",
    "\n",
    "generate_range_array(0, 10, 0.2)"
   ]
  },
  {
   "cell_type": "markdown",
   "id": "0cbbc99e-0b35-4d90-87e7-b358d6a9149c",
   "metadata": {},
   "source": [
    "### 14.Design a function `generate_linear_space` that takes two floats `start`, `stop`, and an integer `num` as \n",
    "### arguments and generates a NumPy array with num equally spaced values between `start` and `stop` \n",
    "### (inclusive)."
   ]
  },
  {
   "cell_type": "code",
   "execution_count": 20,
   "id": "85a47243-a93b-40c9-b78a-4f04e27481e0",
   "metadata": {},
   "outputs": [
    {
     "name": "stdin",
     "output_type": "stream",
     "text": [
      "Enter starting value :  1\n",
      "Enter stop value :  20\n",
      "How many value you take ? :  10\n"
     ]
    },
    {
     "data": {
      "text/plain": [
       "array([ 1.        ,  3.11111111,  5.22222222,  7.33333333,  9.44444444,\n",
       "       11.55555556, 13.66666667, 15.77777778, 17.88888889, 20.        ])"
      ]
     },
     "execution_count": 20,
     "metadata": {},
     "output_type": "execute_result"
    }
   ],
   "source": [
    "def generate_linear_space():\n",
    "    start = int(input(\"Enter starting value : \"))\n",
    "    stop = int(input('Enter stop value : '))\n",
    "    num = int(input(\"How many value you take ? : \"))\n",
    "    return np.linspace(start, stop, num)\n",
    "\n",
    "\n",
    "generate_linear_space()"
   ]
  },
  {
   "cell_type": "markdown",
   "id": "31bfed60-91f6-4929-acf0-d797fcb9e4c5",
   "metadata": {},
   "source": [
    "### 15.. Create a function `create_identity_matrix` that takes an integer `n` as input and generates a square \n",
    "### identity matrix of size `n x n` using `numpy.eye`"
   ]
  },
  {
   "cell_type": "code",
   "execution_count": 22,
   "id": "fc90352c-df5c-4307-9c38-649815644690",
   "metadata": {},
   "outputs": [
    {
     "data": {
      "text/plain": [
       "('The identity matrix is : ',\n",
       " array([[1., 0., 0.],\n",
       "        [0., 1., 0.],\n",
       "        [0., 0., 1.]]))"
      ]
     },
     "execution_count": 22,
     "metadata": {},
     "output_type": "execute_result"
    }
   ],
   "source": [
    "def create_identity_matrix(n):\n",
    "    return \"The identity matrix is : \", np.eye(n)\n",
    "\n",
    "create_identity_matrix(3)"
   ]
  },
  {
   "cell_type": "markdown",
   "id": "3101232b-9d02-43c6-b66d-27932e7b483c",
   "metadata": {},
   "source": [
    "### 16. Write a function that takes a Python list and converts it into a NumPy array"
   ]
  },
  {
   "cell_type": "code",
   "execution_count": 30,
   "id": "8581e078-8526-47d8-bd18-817ea2d80e03",
   "metadata": {},
   "outputs": [
    {
     "data": {
      "text/plain": [
       "array([1, 2, 3, 4, 5])"
      ]
     },
     "execution_count": 30,
     "metadata": {},
     "output_type": "execute_result"
    }
   ],
   "source": [
    "def convert_array(l):\n",
    "    arr = np.array(l)\n",
    "    return arr\n",
    "\n",
    "l = [1,2,3,4,5]\n",
    "convert_array(l)"
   ]
  },
  {
   "cell_type": "markdown",
   "id": "5a5bbe49-33cd-448e-8fc6-1ddd7ddf6c31",
   "metadata": {},
   "source": [
    "###  17. Create a NumPy array and demonstrate the use of `numpy.view` to create a new array object with the \n",
    "### same data"
   ]
  },
  {
   "cell_type": "code",
   "execution_count": 29,
   "id": "8b828e2d-db7f-4385-89a7-fa00ca17807f",
   "metadata": {},
   "outputs": [
    {
     "name": "stdout",
     "output_type": "stream",
     "text": [
      "Before viewing original array is : [1 2 3 4 5 6]\n",
      "Before viewing a array is : [1 2 3 4 5 6]\n",
      "After viewing original array is :  [88  2  3  4  5  6]\n",
      "After viewing brr array is : [88  2  3  4  5  6]\n"
     ]
    }
   ],
   "source": [
    "arr = np.array([1,2,3,4,5,6])\n",
    "brr  = arr.view()\n",
    "print(\"Before viewing original array is :\",arr)\n",
    "print(\"Before viewing a array is :\",brr)\n",
    "arr[0] = 88\n",
    "print(\"After viewing original array is : \", arr)\n",
    "print(\"After viewing brr array is :\", brr)"
   ]
  },
  {
   "cell_type": "markdown",
   "id": "8b94c712-79f9-42b2-88b9-a9cbe7ce37c5",
   "metadata": {},
   "source": [
    "### 18.. Write a function that takes two NumPy arrays and concatenates them along a specified axis"
   ]
  },
  {
   "cell_type": "code",
   "execution_count": 36,
   "id": "0eea9400-c10e-4643-87b5-2a6d95ef86f2",
   "metadata": {},
   "outputs": [
    {
     "data": {
      "text/plain": [
       "array([1, 2, 3, 4, 5, 6, 7, 8])"
      ]
     },
     "execution_count": 36,
     "metadata": {},
     "output_type": "execute_result"
    }
   ],
   "source": [
    "arr = np.array([1,2,3,4])\n",
    "brr = np.array([5,6,7,8])\n",
    "np.concatenate((arr,brr) , axis = 0)\n",
    "\n"
   ]
  },
  {
   "cell_type": "markdown",
   "id": "624774ad-75d4-4984-858f-a7c127c1f820",
   "metadata": {},
   "source": [
    "### 19.Create two NumPy arrays with different shapes and concatenate them horizontally using `numpy.\n",
    "###  concatenate`."
   ]
  },
  {
   "cell_type": "code",
   "execution_count": 46,
   "id": "36aa62f7-b55e-4f7d-a348-2c29038412b8",
   "metadata": {},
   "outputs": [
    {
     "data": {
      "text/plain": [
       "array([[1, 2, 5],\n",
       "       [3, 4, 6]])"
      ]
     },
     "execution_count": 46,
     "metadata": {},
     "output_type": "execute_result"
    }
   ],
   "source": [
    "arr = np.array([[1,2], [3,4]])\n",
    "brr = np.array([[5], [6]])\n",
    "np.concatenate((arr, brr), axis = 1)"
   ]
  },
  {
   "cell_type": "markdown",
   "id": "c9283731-16a2-424c-aaa8-5cb1a3f46840",
   "metadata": {},
   "source": [
    "### 20.Write a function that vertically stacks multiple NumPy arrays given as a list"
   ]
  },
  {
   "cell_type": "code",
   "execution_count": 50,
   "id": "0f9918eb-e76d-4c3d-9b86-e548282e337e",
   "metadata": {},
   "outputs": [
    {
     "data": {
      "text/plain": [
       "('mutiply array is : ',\n",
       " array([[ 19,  34,  36],\n",
       "        [ 52,  82,  93],\n",
       "        [ 85, 130, 150]]))"
      ]
     },
     "execution_count": 50,
     "metadata": {},
     "output_type": "execute_result"
    }
   ],
   "source": [
    "def multiply():\n",
    "    arr = np.array([[1,2,3], [4,5,6], [7,8,9]])\n",
    "    brr = np.array([[4,3,6], [6,8,9], [1,5,4]])\n",
    "    return \"mutiply array is : \",arr @ brr\n",
    "\n",
    "multiply()"
   ]
  },
  {
   "cell_type": "markdown",
   "id": "f95f7f3b-fd0b-4205-b4a8-2944707ea785",
   "metadata": {},
   "source": [
    "###  21. Write a Python function using NumPy to create an array of integers within a specified range (inclusive) \n",
    "### with a given step size."
   ]
  },
  {
   "cell_type": "code",
   "execution_count": 54,
   "id": "0782a51d-fb49-42c5-ace4-efc1dca9cebc",
   "metadata": {},
   "outputs": [
    {
     "name": "stdin",
     "output_type": "stream",
     "text": [
      "Enter your starting value :  1\n",
      "Enter your stoping value :  10\n",
      "Enter step size :  0.2\n"
     ]
    },
    {
     "data": {
      "text/plain": [
       "array([1. , 1.2, 1.4, 1.6, 1.8, 2. , 2.2, 2.4, 2.6, 2.8, 3. , 3.2, 3.4,\n",
       "       3.6, 3.8, 4. , 4.2, 4.4, 4.6, 4.8, 5. , 5.2, 5.4, 5.6, 5.8, 6. ,\n",
       "       6.2, 6.4, 6.6, 6.8, 7. , 7.2, 7.4, 7.6, 7.8, 8. , 8.2, 8.4, 8.6,\n",
       "       8.8, 9. , 9.2, 9.4, 9.6, 9.8])"
      ]
     },
     "execution_count": 54,
     "metadata": {},
     "output_type": "execute_result"
    }
   ],
   "source": [
    "def create_array():\n",
    "    start = int(input('Enter your starting value : '))\n",
    "    stop = int(input('Enter your stoping value : '))\n",
    "    step = float(input(\"Enter step size : \"))\n",
    "    return np.arange(start, stop, step)\n",
    "\n",
    "create_array()"
   ]
  },
  {
   "cell_type": "markdown",
   "id": "0a9eef88-22ed-4921-be40-704f1a54eef3",
   "metadata": {},
   "source": [
    "### 22. Write a Python function using NumPy to generate an array of 10 equally spaced values between 0 and 1 \n",
    " ### (inclusive)."
   ]
  },
  {
   "cell_type": "code",
   "execution_count": 60,
   "id": "4c3af180-abc1-4a24-bb65-fda5200ac756",
   "metadata": {},
   "outputs": [
    {
     "data": {
      "text/plain": [
       "array([0.        , 0.11111111, 0.22222222, 0.33333333, 0.44444444,\n",
       "       0.55555556, 0.66666667, 0.77777778, 0.88888889, 1.        ])"
      ]
     },
     "execution_count": 60,
     "metadata": {},
     "output_type": "execute_result"
    }
   ],
   "source": [
    "def equally_space(start, stop, spaced):\n",
    "    \n",
    "    return np.linspace(start, stop, spaced)\n",
    "\n",
    "equally_space(0, 1, 10)"
   ]
  },
  {
   "cell_type": "markdown",
   "id": "be961703-0cd6-4b5e-9444-cb67073e9cae",
   "metadata": {},
   "source": [
    "### 23. Write a Python function using NumPy to create an array of 5 logarithmically spaced values between 1 and \n",
    "### 1000 (inclusive)"
   ]
  },
  {
   "cell_type": "code",
   "execution_count": 66,
   "id": "8e6aa38a-caf1-49b4-9889-8f3dcb356998",
   "metadata": {},
   "outputs": [
    {
     "data": {
      "text/plain": [
       "array([1.00000000e+001, 5.62341325e+250,             inf,             inf,\n",
       "                   inf])"
      ]
     },
     "execution_count": 66,
     "metadata": {},
     "output_type": "execute_result"
    }
   ],
   "source": [
    "def logarithmically(start, stop, spaced):\n",
    "    \n",
    "    return np.logspace(start, stop, spaced, base = 10)\n",
    "\n",
    "logarithmically(1, 1000, 5)"
   ]
  },
  {
   "cell_type": "markdown",
   "id": "8a1c1caa-6cf4-4fe0-8f55-ba120c811e5c",
   "metadata": {},
   "source": [
    "###  24. Create a Pandas DataFrame using a NumPy array that contains 5 rows and 3 columns, where the values \n",
    "### are random integers between 1 and 100"
   ]
  },
  {
   "cell_type": "code",
   "execution_count": null,
   "id": "4d733d4c-eae0-4890-8ad6-6dd9a2c59028",
   "metadata": {},
   "outputs": [],
   "source": []
  },
  {
   "cell_type": "markdown",
   "id": "a2e5b62a-8561-435c-aed8-eb05cd4f5784",
   "metadata": {},
   "source": [
    "### 25. Write a function that takes a Pandas DataFrame and replaces all negative values in a specific column \n",
    "### with zeros. Use NumPy operations within the Pandas DataFrame"
   ]
  },
  {
   "cell_type": "code",
   "execution_count": null,
   "id": "571212b3-e8cb-43d9-8600-a1442e2f9803",
   "metadata": {},
   "outputs": [],
   "source": []
  },
  {
   "cell_type": "markdown",
   "id": "9cb33544-2e07-4b3b-b41e-8c8dbbc8942b",
   "metadata": {},
   "source": [
    "### 26. Access the 3rd element from the given NumPy array.\n",
    "###  arr = np.array([10, 20, 30, 40, 50])"
   ]
  },
  {
   "cell_type": "code",
   "execution_count": 63,
   "id": "393e5c7f-08b1-475d-9c20-8d302052152f",
   "metadata": {},
   "outputs": [
    {
     "data": {
      "text/plain": [
       "30"
      ]
     },
     "execution_count": 63,
     "metadata": {},
     "output_type": "execute_result"
    }
   ],
   "source": [
    "arr = np.array([10, 20, 30, 40, 40])\n",
    "arr[2]"
   ]
  },
  {
   "cell_type": "markdown",
   "id": "b1cad91d-c57b-4318-91be-cab44315aba7",
   "metadata": {},
   "source": [
    "### 27. Retrieve the element at index (1, 2) from the 2D NumPy array.\n",
    "   arr_2d = np.array([[1, 2, 3], ",
    "\n",
    " [4, 5, 6], ",
    "\n",
    " [7, 8, 9]])"
   ]
  },
  {
   "cell_type": "code",
   "execution_count": 64,
   "id": "0cb653e6-5561-4573-a22e-a8c295d810e2",
   "metadata": {},
   "outputs": [
    {
     "data": {
      "text/plain": [
       "6"
      ]
     },
     "execution_count": 64,
     "metadata": {},
     "output_type": "execute_result"
    }
   ],
   "source": [
    "arr_2d = np.array([[1,2,3], [4,5,6], [7,8,9]])\n",
    "arr_2d[1][2]"
   ]
  },
  {
   "cell_type": "markdown",
   "id": "918f75ff-38e0-4520-b181-7f4370a6ae1c",
   "metadata": {},
   "source": [
    "###  28. Using boolean indexing, extract elements greater than 5 from the given NumPy array.\n",
    "### arr = np.array([3, 8, 2, 10, 5, 7])"
   ]
  },
  {
   "cell_type": "code",
   "execution_count": 97,
   "id": "3b62f9b3-1209-43c6-b2a6-ef90eff58531",
   "metadata": {},
   "outputs": [
    {
     "name": "stdout",
     "output_type": "stream",
     "text": [
      "[ 8 10  7]\n"
     ]
    }
   ],
   "source": [
    "arr = np.array([3, 8, 2, 10, 5, 7])\n",
    "print(arr[(arr > 5)])"
   ]
  },
  {
   "cell_type": "markdown",
   "id": "dbe4f6ab-5179-4e7c-b921-96a0d1b94f80",
   "metadata": {},
   "source": [
    "### 29. Perform basic slicing to extract elements from index 2 to 5 (inclusive) from the given NumPy array.\n",
    "### arr = np.array([1, 2, 3, 4, 5, 6, 7, 8, 9])"
   ]
  },
  {
   "cell_type": "code",
   "execution_count": 68,
   "id": "9b9d0614-99ff-4efa-94d5-102bec11a3f8",
   "metadata": {},
   "outputs": [
    {
     "data": {
      "text/plain": [
       "array([3, 4, 5])"
      ]
     },
     "execution_count": 68,
     "metadata": {},
     "output_type": "execute_result"
    }
   ],
   "source": [
    "arr = np.array([1,2,3,4,5,6,7,8,9])\n",
    "arr[2:5]"
   ]
  },
  {
   "cell_type": "markdown",
   "id": "e393d92c-3c01-4e6d-837c-5b4b1a3199bb",
   "metadata": {},
   "source": [
    " ### 30. Slice the 2D NumPy array to extract the sub-array `[[2, 3], [5, 6]]` from the given array.\n",
    " arr_2d = np.array([[1, 2, 3], ",
    "\n",
    " [4, 5, 6], ",
    "\n",
    " [7, 8, 9]])\n"
   ]
  },
  {
   "cell_type": "code",
   "execution_count": 78,
   "id": "84fd6b32-7dcf-46c1-af73-94b1d8287439",
   "metadata": {},
   "outputs": [
    {
     "data": {
      "text/plain": [
       "array([[2, 3],\n",
       "       [5, 6]])"
      ]
     },
     "execution_count": 78,
     "metadata": {},
     "output_type": "execute_result"
    }
   ],
   "source": [
    "arr = np.array([[1,2,3], [4,5,6], [7,8,9]])\n",
    "arr[0:2 , [1,2]]"
   ]
  },
  {
   "cell_type": "markdown",
   "id": "e5138801-bde5-488b-b3a7-ac1362b7b7f9",
   "metadata": {},
   "source": [
    "### 31. Write a NumPy function to extract elements in specific order from a given 2D array based on indices \n",
    "### provided in another array."
   ]
  },
  {
   "cell_type": "code",
   "execution_count": 84,
   "id": "c224ea2b-3091-4aa4-8760-f4127e262506",
   "metadata": {},
   "outputs": [
    {
     "data": {
      "text/plain": [
       "array([20, 10, 60])"
      ]
     },
     "execution_count": 84,
     "metadata": {},
     "output_type": "execute_result"
    }
   ],
   "source": [
    "def another_array(arr ):\n",
    "    index_array = np.array([arr[0][1], arr[1][2], arr[2][2]])\n",
    "    return index_array\n",
    "    \n",
    "    \n",
    "another_array(arr = np.array([[10, 20, 30], [40, 30, 10], [50, 90, 60]]))"
   ]
  },
  {
   "cell_type": "markdown",
   "id": "21e846e9-49ba-4cc4-8ad1-a947ac31af47",
   "metadata": {},
   "source": [
    "###  32. Create a NumPy function that filters elements greater than a threshold from a given 1D array using \n",
    "### boolean indexing."
   ]
  },
  {
   "cell_type": "code",
   "execution_count": 85,
   "id": "595b2aca-d931-4f8c-a907-7c130a92d6c9",
   "metadata": {},
   "outputs": [
    {
     "name": "stdout",
     "output_type": "stream",
     "text": [
      "[10  6 50 40  9 70]\n"
     ]
    }
   ],
   "source": [
    "arr = np.array([10, 3, 6, 50, 40, 5, 9, 70])\n",
    "print(arr[arr > 5])"
   ]
  },
  {
   "cell_type": "markdown",
   "id": "d99541c8-3ad9-4dc1-acf4-89df2a06c036",
   "metadata": {},
   "source": [
    "###  33. Develop a NumPy function that extracts specific elements from a 3D array using indices provided in three \n",
    "### separate arrays for each dimension"
   ]
  },
  {
   "cell_type": "code",
   "execution_count": 88,
   "id": "90b9857f-ae1b-4afd-97e7-d55517fa4fb7",
   "metadata": {},
   "outputs": [
    {
     "name": "stdout",
     "output_type": "stream",
     "text": [
      "Extracted elements: [11 25 30]\n"
     ]
    }
   ],
   "source": [
    "import numpy as np\n",
    "\n",
    "def extract_from_3d(arr, idx0, idx1, idx2):\n",
    "    return arr[idx0, idx1, idx2]\n",
    "\n",
    "\n",
    "arr = np.array([\n",
    "    [[10, 11, 12],\n",
    "     [13, 14, 15]],\n",
    "    \n",
    "    [[20, 21, 22],\n",
    "     [23, 24, 25]],\n",
    "    \n",
    "    [[30, 31, 32],\n",
    "     [33, 34, 35]]\n",
    "])\n",
    "\n",
    "# Indices to extract elements from: (0,0,1), (1,1,2), (2,0,0)\n",
    "idx0 = np.array([0, 1, 2])  # depth indices\n",
    "idx1 = np.array([0, 1, 0])  # row indices\n",
    "idx2 = np.array([1, 2, 0])  # column indices\n",
    "\n",
    "result = extract_from_3d(arr, idx0, idx1, idx2)\n",
    "print(\"Extracted elements:\", result)\n"
   ]
  },
  {
   "cell_type": "markdown",
   "id": "a391d659-e961-4a59-8524-fe1d4eb6f750",
   "metadata": {},
   "source": [
    "###  34. Write a NumPy function that returns elements from an array where both two conditions are satisfied \n",
    "### using boolean indexing"
   ]
  },
  {
   "cell_type": "code",
   "execution_count": 99,
   "id": "c71170b4-7f76-4483-8974-a07321c0b367",
   "metadata": {},
   "outputs": [
    {
     "data": {
      "text/plain": [
       "array([9])"
      ]
     },
     "execution_count": 99,
     "metadata": {},
     "output_type": "execute_result"
    }
   ],
   "source": [
    "arr = np.array([10, 20, 5, 8, 100, 9, 22])\n",
    "def two_condition_satisfied(arr):\n",
    "    return arr[(arr > 5) & (arr % 2 !=0)]\n",
    "\n",
    "\n",
    "\n",
    "\n",
    "two_condition_satisfied(arr)"
   ]
  },
  {
   "cell_type": "markdown",
   "id": "f426df73-5516-4dde-9098-6efb313beb91",
   "metadata": {},
   "source": [
    "### 35. Create a NumPy function that extracts elements from a 2D array using row and column indices provided \n",
    "### in separate arrays"
   ]
  },
  {
   "cell_type": "code",
   "execution_count": null,
   "id": "814b8fd2-0ef4-446f-afcd-9bf69b2f8956",
   "metadata": {},
   "outputs": [],
   "source": []
  },
  {
   "cell_type": "markdown",
   "id": "a3340812-34b1-45e3-8209-fbf257edcab8",
   "metadata": {},
   "source": [
    "###  36. Given an array arr of shape (3, 3), add a scalar value of 5 to each element using NumPy broadcasting."
   ]
  },
  {
   "cell_type": "code",
   "execution_count": 103,
   "id": "9e5b938a-b145-448d-824c-da933be16690",
   "metadata": {},
   "outputs": [
    {
     "data": {
      "text/plain": [
       "array([[ 6,  7,  8],\n",
       "       [ 9, 10, 11],\n",
       "       [12, 13, 14]])"
      ]
     },
     "execution_count": 103,
     "metadata": {},
     "output_type": "execute_result"
    }
   ],
   "source": [
    "arr = np.array([[1,2,3], [4,5,6], [7,8,9]])\n",
    "arr + 5"
   ]
  },
  {
   "cell_type": "markdown",
   "id": "bb4d53ad-e081-4664-bbfb-95e33676d1ff",
   "metadata": {},
   "source": [
    "###  37. Consider two arrays arr1 of shape (1, 3) and arr2 of shape (3, 4). Multiply each row of arr2 by the \n",
    "### corresponding element in arr1 using NumPy broadcasting"
   ]
  },
  {
   "cell_type": "code",
   "execution_count": 112,
   "id": "e8277fb0-c5eb-406a-9d33-f9bcafeb7230",
   "metadata": {},
   "outputs": [
    {
     "name": "stdout",
     "output_type": "stream",
     "text": [
      "[[ 2  4  6  8]\n",
      " [15 18 21 24]\n",
      " [36 40 44 48]]\n"
     ]
    }
   ],
   "source": [
    "arr1 = np.array([[2, 3, 4]])\n",
    "\n",
    "arr2 = np.array([[1, 2, 3, 4],\n",
    "                 [5, 6, 7, 8],\n",
    "                 [9, 10, 11, 12]])\n",
    "\n",
    "result = arr1.T * arr2  #[ Here use transpose of matrix because of our 1st array contain 3 column but 2nd array have 4 colunm , here particular mention \n",
    "# index wise multiplication , so transpose use]\n",
    "print(result)"
   ]
  },
  {
   "cell_type": "markdown",
   "id": "3fdcdaf8-ec24-4253-90f7-8fc149406536",
   "metadata": {},
   "source": [
    "###  38. Given a 1D array arr1 of shape (1, 4) and a 2D array arr2 of shape (4, 3), add arr1 to each row of arr2 using \n",
    "### NumPy broadcasting."
   ]
  },
  {
   "cell_type": "code",
   "execution_count": 115,
   "id": "fb8252c0-833f-4af8-9092-8527837c2433",
   "metadata": {},
   "outputs": [
    {
     "name": "stdout",
     "output_type": "stream",
     "text": [
      "[[ 2  4  6  8]\n",
      " [ 6  8 10 12]\n",
      " [10 12 14 16]]\n"
     ]
    }
   ],
   "source": [
    "arr1 = np.array([[1, 2, 3, 4]])\n",
    "\n",
    "arr2 = np.array([[1, 2, 3, 4],\n",
    "                 [5, 6, 7, 8],\n",
    "                 [9, 10, 11, 12]])\n",
    "result = arr1 + arr2\n",
    "print(result)"
   ]
  },
  {
   "cell_type": "markdown",
   "id": "a9548dc8-dbcd-4e40-a5a8-ec550669c7ef",
   "metadata": {},
   "source": [
    "###  39. Consider two arrays arr1 of shape (3, 1) and arr2 of shape (1, 3). Add these arrays using NumPy \n",
    "### broadcasting."
   ]
  },
  {
   "cell_type": "code",
   "execution_count": 125,
   "id": "1d8039b1-644f-4087-a714-e4bf8b8cf7d3",
   "metadata": {},
   "outputs": [
    {
     "name": "stdout",
     "output_type": "stream",
     "text": [
      "[[2 4 6]]\n"
     ]
    }
   ],
   "source": [
    "arr1 = np.array([[1], \n",
    "                 [2], \n",
    "                 [3]])\n",
    "\n",
    "arr2 = np.array([1,2,3])\n",
    "result_add = arr1.T + arr2\n",
    "print(result_add)\n"
   ]
  },
  {
   "cell_type": "markdown",
   "id": "1d2dc3b9-040d-44be-a381-fcdfae22561b",
   "metadata": {},
   "source": [
    "###  40. Given arrays arr1 of shape (2, 3) and arr2 of shape (2, 2), perform multiplication using NumPy \n",
    "### broadcasting. Handle the shape incompatibility."
   ]
  },
  {
   "cell_type": "code",
   "execution_count": 132,
   "id": "a97978dd-3952-42e8-b9c9-045a8098874f",
   "metadata": {},
   "outputs": [
    {
     "name": "stdout",
     "output_type": "stream",
     "text": [
      "[[[ 1  2]\n",
      "  [ 2  4]\n",
      "  [ 3  6]]\n",
      "\n",
      " [[12 16]\n",
      "  [15 20]\n",
      "  [18 24]]]\n"
     ]
    }
   ],
   "source": [
    "arr1 = np.array([[1, 2, 3],\n",
    "                [4, 5, 6]])\n",
    "\n",
    "arr2 = np.array([[1, 2],\n",
    "                [3, 4]])\n",
    "arr1_reshape = arr1.reshape(2,3,1)    # shape (2, 3, 1) chage array shape\n",
    "arr2_reshape = arr2.reshape(2,1,2)    # shape (2, 1, 2) change array shape\n",
    "result_multiply = arr1_reshape * arr2_reshape\n",
    "print(result_multiply)"
   ]
  },
  {
   "cell_type": "markdown",
   "id": "9769c53a-d8fb-4f04-a21c-c201cfea15ef",
   "metadata": {},
   "source": [
    "###  41. Calculate column-wise mean for the given array:\n",
    " ### arr = np.array([[1, 2, 3], [4, 5, 6]])"
   ]
  },
  {
   "cell_type": "code",
   "execution_count": 138,
   "id": "66fa6965-a427-42cf-977a-01412d7404e2",
   "metadata": {},
   "outputs": [
    {
     "name": "stdout",
     "output_type": "stream",
     "text": [
      "column wise mean is : [2.5 3.5 4.5]\n"
     ]
    }
   ],
   "source": [
    "arr = np.array([[1, 2, 3], \n",
    "                [4, 5, 6]])\n",
    "column_mean = np.mean(arr, axis = 0)\n",
    "\n",
    "print('column wise mean is :',column_mean)\n"
   ]
  },
  {
   "cell_type": "markdown",
   "id": "5932db38-33c1-4c9b-a035-5e537ee01a65",
   "metadata": {},
   "source": [
    "### 42. Find maximum value in each row of the given array:\n",
    " ### arr = np.array([[1, 2, 3], [4, 5, 6]])"
   ]
  },
  {
   "cell_type": "code",
   "execution_count": 148,
   "id": "0702cd3b-24c4-4b8f-b3ae-614469b57cfa",
   "metadata": {},
   "outputs": [
    {
     "name": "stdout",
     "output_type": "stream",
     "text": [
      "Row 1 maximum value is :  3\n",
      "Row 2 maximum value is :  6\n"
     ]
    }
   ],
   "source": [
    "arr = np.array([[1, 2, 3],\n",
    "               [4, 5, 6]])\n",
    "row1_max = np.max(arr[0])\n",
    "row2_max = np.max(arr[1])\n",
    "print('Row 1 maximum value is : ',row1_max)\n",
    "print('Row 2 maximum value is : ',row2_max)\n"
   ]
  },
  {
   "cell_type": "markdown",
   "id": "68ee9a20-54c7-4d35-91b5-32d9400cbaa9",
   "metadata": {},
   "source": [
    "### OR"
   ]
  },
  {
   "cell_type": "code",
   "execution_count": 149,
   "id": "3dfc5b63-c1a6-4f6b-9ae7-9d2dbf89cf55",
   "metadata": {},
   "outputs": [
    {
     "name": "stdout",
     "output_type": "stream",
     "text": [
      "Row wise maximum value is : [3 6]\n"
     ]
    }
   ],
   "source": [
    "arr = np.array([[1, 2, 3],\n",
    "               [4, 5, 6]])\n",
    "result_max = np.max(arr,  axis = 1)\n",
    "print('Row wise maximum value is :',result_max)"
   ]
  },
  {
   "cell_type": "markdown",
   "id": "3f7c64e6-a44c-4ea2-ab21-cb170b70d67e",
   "metadata": {},
   "source": [
    "### 43. For the given array, find indices of maximum value in each column.\n",
    " ### arr = np.array([[1, 2, 3], [4, 5, 6]])"
   ]
  },
  {
   "cell_type": "code",
   "execution_count": 152,
   "id": "dd534c22-9f8c-474c-a880-e3852585b617",
   "metadata": {},
   "outputs": [
    {
     "name": "stdout",
     "output_type": "stream",
     "text": [
      "The maximum value index are :  [1 1 1]\n"
     ]
    }
   ],
   "source": [
    "arr = np.array([[1, 2, 3],\n",
    "               [4, 5, 6]])\n",
    "result_index = np.argmax(arr, axis = 0)\n",
    "print('The maximum value index are : ',result_index)"
   ]
  },
  {
   "cell_type": "markdown",
   "id": "73323004-d3b1-4e9e-b40c-6e60e6782ac7",
   "metadata": {},
   "source": [
    "###  44. For the given array, apply custom function to calculate moving sum along rows.\n",
    "### arr = np.array([[1, 2, 3], [4, 5, 6]])"
   ]
  },
  {
   "cell_type": "code",
   "execution_count": 163,
   "id": "5c469ea7-d51e-49cf-b79e-dfb00a7b5063",
   "metadata": {},
   "outputs": [
    {
     "name": "stdout",
     "output_type": "stream",
     "text": [
      "Row-wise moving sum (window=2):\n",
      " [[ 3.  5.]\n",
      " [ 9. 11.]]\n"
     ]
    }
   ],
   "source": [
    "arr = np.array([[1, 2, 3],\n",
    "                [4, 5, 6]])\n",
    "\n",
    "def moving_sum_rowwise(array, window=2):\n",
    "    return np.array([np.convolve(row, np.ones(window), 'valid') for row in array])  # (1+2), (2+3)  That is moving sum\n",
    "                                                                                     # (4+5) (5+6)\n",
    "\n",
    "result = moving_sum_rowwise(arr, window=2)\n",
    "print(\"Row-wise moving sum (window=2):\\n\", result)\n"
   ]
  },
  {
   "cell_type": "markdown",
   "id": "7989ff6f-cb58-43f8-9ccc-c806e871fd44",
   "metadata": {},
   "source": [
    "###  45. In the given array, check if all elements in each column are even.\n",
    " ### arr = np.array([[2, 4, 6], [3, 5, 7]])\n"
   ]
  },
  {
   "cell_type": "code",
   "execution_count": 169,
   "id": "503f6fab-2394-4d3f-8cea-c02417b8a4f1",
   "metadata": {},
   "outputs": [
    {
     "name": "stdout",
     "output_type": "stream",
     "text": [
      "[[ True  True  True]\n",
      " [False False False]]\n"
     ]
    }
   ],
   "source": [
    "import numpy as np\n",
    "\n",
    "arr = np.array([[2, 4, 6],\n",
    "                [3, 5, 7]])\n",
    "\n",
    "# Check if each element is even\n",
    "even_check = arr % 2 == 0\n",
    "print(even_check)\n"
   ]
  },
  {
   "cell_type": "markdown",
   "id": "148bb659-f9b7-4974-b5d8-602c48b8392d",
   "metadata": {},
   "source": [
    "### 46. Given a NumPy array arr, reshape it into a matrix of dimensions `m` rows and `n` columns. Return the \n",
    "### reshaped matrix.\n",
    "###  original_array = np.array([1, 2, 3, 4, 5, 6])"
   ]
  },
  {
   "cell_type": "code",
   "execution_count": 180,
   "id": "eaa2b1a9-2654-4176-89ea-4f2d87baa521",
   "metadata": {},
   "outputs": [
    {
     "data": {
      "text/plain": [
       "matrix([[1, 2, 3],\n",
       "        [4, 5, 6]])"
      ]
     },
     "execution_count": 180,
     "metadata": {},
     "output_type": "execute_result"
    }
   ],
   "source": [
    "arr = np.array([1, 2, 3, 4, 5, 6])\n",
    "\n",
    "def convert_matrix(arr, m, n):\n",
    "    brr = arr.reshape(m, n)\n",
    "    mat = np.matrix(brr)\n",
    "    return mat\n",
    "\n",
    "convert_matrix(arr , 2, 3)"
   ]
  },
  {
   "cell_type": "markdown",
   "id": "6bdccc9e-9b67-4d1a-a7e0-c59c89cfbe82",
   "metadata": {},
   "source": [
    "###  47. Create a function that takes a matrix as input and returns the flattened array.\n",
    "###  input_matrix = np.array([[1, 2, 3], [4, 5, 6]])"
   ]
  },
  {
   "cell_type": "code",
   "execution_count": 183,
   "id": "29abf6af-8628-4431-8b8a-149a981c534a",
   "metadata": {},
   "outputs": [
    {
     "data": {
      "text/plain": [
       "array([1, 2, 3, 4, 5, 6])"
      ]
     },
     "execution_count": 183,
     "metadata": {},
     "output_type": "execute_result"
    }
   ],
   "source": [
    "input_matrix = np.array([[1, 2, 3], \n",
    "                         [4, 5, 6]])\n",
    "def flattened_array(arr):\n",
    "    return arr.flatten()\n",
    "\n",
    "flattened_array(input_matrix)"
   ]
  },
  {
   "cell_type": "markdown",
   "id": "de60e8d4-56f2-47bf-91da-e0992ad10cc8",
   "metadata": {},
   "source": [
    "###  48. Write a function that concatenates two given arrays along a specified axis.\n",
    "### array1 = np.array([[1, 2], [3, 4]])\n",
    "###  array2 = np.array([[5, 6], [7, 8]])"
   ]
  },
  {
   "cell_type": "code",
   "execution_count": 189,
   "id": "7d94d5fe-44f1-4924-b5fc-0f82fe5ce51d",
   "metadata": {},
   "outputs": [
    {
     "data": {
      "text/plain": [
       "array([[1, 2],\n",
       "       [3, 4],\n",
       "       [5, 6],\n",
       "       [7, 8]])"
      ]
     },
     "execution_count": 189,
     "metadata": {},
     "output_type": "execute_result"
    }
   ],
   "source": [
    "array1 = np.array([[1, 2], \n",
    "                   [3, 4]])\n",
    "\n",
    "array2 = np.array([[5, 6], \n",
    "                   [7, 8]])\n",
    "\n",
    "def concatenate(array1, array2):\n",
    "    return np.concatenate((array1, array2), axis = 0) # concatenate along column axis\n",
    "\n",
    "\n",
    "\n",
    "concatenate(array1, array2)"
   ]
  },
  {
   "cell_type": "markdown",
   "id": "4ea42b95-081a-4168-be3a-5bf4cd611163",
   "metadata": {},
   "source": [
    "#### OR"
   ]
  },
  {
   "cell_type": "code",
   "execution_count": 190,
   "id": "287981ef-1b9c-4779-a43b-d2bbe6e6c60d",
   "metadata": {},
   "outputs": [
    {
     "data": {
      "text/plain": [
       "array([[1, 2, 5, 6],\n",
       "       [3, 4, 7, 8]])"
      ]
     },
     "execution_count": 190,
     "metadata": {},
     "output_type": "execute_result"
    }
   ],
   "source": [
    "array1 = np.array([[1, 2], \n",
    "                   [3, 4]])\n",
    "\n",
    "array2 = np.array([[5, 6], \n",
    "                   [7, 8]])\n",
    "\n",
    "def concatenate(array1, array2):\n",
    "    return np.concatenate((array1, array2), axis = 1) # concatenate along row axis \n",
    "\n",
    "\n",
    "\n",
    "concatenate(array1, array2)"
   ]
  },
  {
   "cell_type": "markdown",
   "id": "14d32fd3-da2d-46a7-978e-f5864a8e701e",
   "metadata": {},
   "source": [
    "###  49. Create a function that splits an array into multiple sub-arrays along a specified axis.\n",
    "### original_array = np.array([[1, 2, 3], [4, 5, 6], [7, 8, 9]])"
   ]
  },
  {
   "cell_type": "code",
   "execution_count": 210,
   "id": "0246841b-c9c4-4080-b780-de4a7d030c9d",
   "metadata": {},
   "outputs": [
    {
     "name": "stdout",
     "output_type": "stream",
     "text": [
      "Original_array is :\n",
      " [[1 2 3]\n",
      " [4 5 6]\n",
      " [7 8 9]]\n"
     ]
    },
    {
     "data": {
      "text/plain": [
       "('sub array are :', array([1, 2, 3]), array([4, 5, 6]), array([7, 8, 9]))"
      ]
     },
     "execution_count": 210,
     "metadata": {},
     "output_type": "execute_result"
    }
   ],
   "source": [
    "original_array = np.array([[1, 2, 3], [4, 5, 6], [7, 8, 9]])\n",
    "def split(arr):\n",
    "    \n",
    "    return 'sub array are :',arr[0], arr[1], arr[2]\n",
    "\n",
    "print('Original_array is :\\n',original_array)\n",
    "split(original_array)"
   ]
  },
  {
   "cell_type": "markdown",
   "id": "d334300d-e95f-45a9-9ec5-41fa318ff145",
   "metadata": {},
   "source": [
    "###  50. Write a function that inserts and then deletes elements from a given array at specified indices.\n",
    "###  original_array = np.array([1, 2, 3, 4, 5])\n",
    "###  indices_to_insert = [2, 4]\n",
    "###  values_to_insert = [10, 11]\n",
    "###  indices_to_delete = [1, 3]"
   ]
  },
  {
   "cell_type": "code",
   "execution_count": 212,
   "id": "0662e236-8259-49af-8c05-f443673dfaf1",
   "metadata": {},
   "outputs": [
    {
     "name": "stdout",
     "output_type": "stream",
     "text": [
      "Final array: [ 1 10  4 11  5]\n"
     ]
    }
   ],
   "source": [
    "\n",
    "\n",
    "original_array = np.array([1, 2, 3, 4, 5])\n",
    "indices_to_insert = [2, 4]\n",
    "values_to_insert = [10, 11]\n",
    "indices_to_delete = [1, 3]\n",
    "\n",
    "\n",
    "def insert_and_delete(original_array, indices_to_insert, values_to_insert, indices_to_delete):\n",
    "    modified_array = np.insert(original_array, indices_to_insert, values_to_insert)\n",
    "    \n",
    "    modified_array = np.delete(modified_array, indices_to_delete)\n",
    "    return modified_array\n",
    "\n",
    "\n",
    "\n",
    "\n",
    "\n",
    "\n",
    "result = insert_and_delete(original_array, indices_to_insert, values_to_insert, indices_to_delete)\n",
    "print(\"Final array:\", result)\n"
   ]
  },
  {
   "cell_type": "markdown",
   "id": "db615227-5ad8-4961-8e45-d44356ee0141",
   "metadata": {},
   "source": [
    "###  51. Create a NumPy array `arr1` with random integers and another array `arr2` with integers from 1 to 10. \n",
    "### Perform element-wise addition between `arr1` and `arr2`."
   ]
  },
  {
   "cell_type": "code",
   "execution_count": 12,
   "id": "80e2ad80-b599-411a-8454-89dce94c48b7",
   "metadata": {},
   "outputs": [
    {
     "name": "stdout",
     "output_type": "stream",
     "text": [
      "[[ 5  3  6 13 10  9 13 12 11 13]]\n"
     ]
    }
   ],
   "source": [
    "arr1 = np.arange(1,11,1)\n",
    "arr2 = np.random.randint(1,10,(1,10))\n",
    "result_array = arr1 + arr2\n",
    "\n",
    "print(result_array)"
   ]
  },
  {
   "cell_type": "markdown",
   "id": "f62703cf-32d5-4592-b99e-73ee14d8ac9d",
   "metadata": {},
   "source": [
    "###  52. Generate a NumPy array `arr1` with sequential integers from 10 to 1 and another array `arr2` with integers \n",
    "### from 1 to 10. Subtract `arr2` from `arr1` element-wise."
   ]
  },
  {
   "cell_type": "code",
   "execution_count": 17,
   "id": "4d18ba51-a162-49f7-a5c1-c8a1c22c991a",
   "metadata": {},
   "outputs": [
    {
     "name": "stdout",
     "output_type": "stream",
     "text": [
      "[-10  -8  -6  -4  -2   0   2   4   6   8]\n"
     ]
    }
   ],
   "source": [
    "arr1 = np.arange(10,0,-1)  # array([10,  9,  8,  7,  6,  5,  4,  3,  2,  1])\n",
    "arr2 = np.arange(0,10,1)   # array([0, 1, 2, 3, 4, 5, 6, 7, 8, 9])\n",
    "result_subtract = arr2 - arr1\n",
    "\n",
    "print(result_subtract)"
   ]
  },
  {
   "cell_type": "markdown",
   "id": "9041c01c-2a4d-4d61-ad5e-570cce539b77",
   "metadata": {},
   "source": [
    "###  53. Create a NumPy array `arr1` with random integers and another array `arr2` with integers from 1 to 5. \n",
    "### Perform element-wise multiplication between `arr1` and `arr2`."
   ]
  },
  {
   "cell_type": "code",
   "execution_count": 22,
   "id": "1233ffdc-4879-450c-a66f-47872d07fee7",
   "metadata": {},
   "outputs": [
    {
     "name": "stdout",
     "output_type": "stream",
     "text": [
      "[2.33063668 2.78800518 1.11420059 0.00481745 0.06005346]\n"
     ]
    }
   ],
   "source": [
    "arr1 = np.random.random_sample(5)  # array([0.11851327, 0.34520893, 0.09959498, 0.23845324, 0.03733064])\n",
    "arr2 = np.random.randint(1,5,(5))  # array([1, 3, 4, 3, 2])\n",
    "result_multiply = arr1 * arr2\n",
    "\n",
    "print(result_multiply)"
   ]
  },
  {
   "cell_type": "markdown",
   "id": "529af5af-b4e9-4b8a-99f0-096dea594c62",
   "metadata": {},
   "source": [
    "###  54. Generate a NumPy array `arr1` with even integers from 2 to 10 and another array `arr2` with integers from 1 \n",
    "### to 5. Perform element-wise division of `arr1` by `arr2`."
   ]
  },
  {
   "cell_type": "code",
   "execution_count": 23,
   "id": "417615c6-3ebb-44d5-ba79-95fb48a8ca26",
   "metadata": {},
   "outputs": [
    {
     "name": "stdout",
     "output_type": "stream",
     "text": [
      "[2. 2. 2. 2. 2.]\n"
     ]
    }
   ],
   "source": [
    "arr1 = np.array([2, 4, 6, 8, 10])\n",
    "arr2 = np.array([1, 2, 3, 4, 5])\n",
    "result_division = arr1 / arr2\n",
    "\n",
    "print(result_division)"
   ]
  },
  {
   "cell_type": "markdown",
   "id": "8571318b-5594-4240-a34c-2c6d0ec8069a",
   "metadata": {},
   "source": [
    "###  55. Create a NumPy array `arr1` with integers from 1 to 5 and another array `arr2` with the same numbers \n",
    "### reversed. Calculate the exponentiation of `arr1` raised to the power of `arr2` element-wise."
   ]
  },
  {
   "cell_type": "code",
   "execution_count": 36,
   "id": "508b5d3b-8b00-49bd-ac98-f87a40cd6ab2",
   "metadata": {},
   "outputs": [
    {
     "name": "stdout",
     "output_type": "stream",
     "text": [
      "[ 1 16 27 16  5]\n"
     ]
    }
   ],
   "source": [
    "arr1 = np.array([1, 2, 3, 4, 5])\n",
    "arr2 = np.array([5, 4, 3, 2, 1])\n",
    "result_power = np.power(arr1, arr2)\n",
    "\n",
    "print(result_power)"
   ]
  },
  {
   "cell_type": "markdown",
   "id": "c20e9c27-490e-4264-a46b-ab7a90e58e74",
   "metadata": {},
   "source": [
    "###  56. Write a function that counts the occurrences of a specific substring within a NumPy array of strings.\n",
    "###  arr = np.array(['hello', 'world', 'hello', 'numpy', 'hello'])"
   ]
  },
  {
   "cell_type": "code",
   "execution_count": 49,
   "id": "88150935-533d-41c9-b5cb-b0e89d514830",
   "metadata": {},
   "outputs": [
    {
     "name": "stdout",
     "output_type": "stream",
     "text": [
      "hello occurrences is  3 times\n"
     ]
    }
   ],
   "source": [
    "arr = np.array(['hello', 'world', 'hello', 'numpy', 'hello'])\n",
    "\n",
    "def count(arr , n):\n",
    "    count = 0\n",
    "    for i in arr:\n",
    "        if (i == n) :\n",
    "            count = count + 1\n",
    "    return count\n",
    "\n",
    "\n",
    "result = count(arr, n= 'hello')\n",
    "print('hello occurrences is ',result,'times')"
   ]
  },
  {
   "cell_type": "markdown",
   "id": "0c350d27-6257-4b9e-87cb-f16c9ed23a30",
   "metadata": {},
   "source": [
    "###  57. Write a function that extracts uppercase characters from a NumPy array of strings.\n",
    "###  arr = np.array(['Hello', 'World', 'OpenAI', 'GPT'])\n"
   ]
  },
  {
   "cell_type": "code",
   "execution_count": 5,
   "id": "00759d4a-24d3-4f60-85b5-e2b31ef8e906",
   "metadata": {},
   "outputs": [
    {
     "name": "stdout",
     "output_type": "stream",
     "text": [
      "['GPT']\n"
     ]
    }
   ],
   "source": [
    "import numpy as np\n",
    "arr = np.array(['Hello', 'World', 'OpenAI', 'GPT'])\n",
    "\n",
    "def uppercase_extracts(arr):\n",
    "    result = []\n",
    "    for i in arr:\n",
    "        if i.isupper():\n",
    "            result.append(i)\n",
    "    return result\n",
    "        \n",
    "\n",
    "\n",
    "print(uppercase_extracts(arr))\n",
    "\n"
   ]
  },
  {
   "cell_type": "markdown",
   "id": "73440994-034c-4501-987d-1eea20508441",
   "metadata": {},
   "source": [
    "### 58. Write a function that replaces occurrences of a substring in a NumPy array of strings with a new string.\n",
    "###  arr = np.array(['apple', 'banana', 'grape', 'pineapple'])"
   ]
  },
  {
   "cell_type": "code",
   "execution_count": null,
   "id": "95fc6855-7b83-4296-84e4-cc39633fb55d",
   "metadata": {},
   "outputs": [],
   "source": [
    "arr = np.array(['apple', 'banana', 'grape', 'pineapple'])"
   ]
  },
  {
   "cell_type": "markdown",
   "id": "4c6ccda4-5037-4f33-8b5e-e1d11b9d4b78",
   "metadata": {},
   "source": [
    "###  59. Write a function that concatenates strings in a NumPy array element-wise.\n",
    "###  arr1 = np.array(['Hello', 'World'])\n",
    "###  arr2 = np.array(['Open', 'AI'])"
   ]
  },
  {
   "cell_type": "code",
   "execution_count": 11,
   "id": "c1c08069-6627-4a21-8476-88d544293b59",
   "metadata": {},
   "outputs": [
    {
     "name": "stdout",
     "output_type": "stream",
     "text": [
      "['Hello' 'World' 'Open' 'AI']\n"
     ]
    }
   ],
   "source": [
    "arr1 = np.array(['Hello', 'World'])\n",
    "arr2 = np.array(['Open', 'AI'])\n",
    "\n",
    "def concatenate_string(arr1, arr2):\n",
    "    return np.concatenate((arr1, arr2), axis = 0)\n",
    "    \n",
    "\n",
    "print(concatenate_string(arr1, arr2))"
   ]
  },
  {
   "cell_type": "markdown",
   "id": "6eff8de0-37c3-4333-92fc-0c5210f2a994",
   "metadata": {},
   "source": [
    "###  60. Write a function that finds the length of the longest string in a NumPy array.\n",
    "### arr = np.array(['apple', 'banana', 'grape', 'pineapple'])\n",
    "###  arr = np.array(['apple', 'banana', 'grape', 'pineapple'])"
   ]
  },
  {
   "cell_type": "code",
   "execution_count": null,
   "id": "1cfe3f32-14c6-4133-9951-e01fa78c8131",
   "metadata": {},
   "outputs": [],
   "source": []
  },
  {
   "cell_type": "markdown",
   "id": "73be982d-aa91-485d-8e8b-c0b8fe7f0a3f",
   "metadata": {},
   "source": [
    "###  61. Create a dataset of 100 random integers between 1 and 1000. Compute the mean, median, variance, and \n",
    "### standard deviation of the dataset using NumPy's functions."
   ]
  },
  {
   "cell_type": "code",
   "execution_count": 17,
   "id": "ae64e368-9e32-4d1b-8cbc-67296fd4744f",
   "metadata": {},
   "outputs": [
    {
     "name": "stdout",
     "output_type": "stream",
     "text": [
      "The give range mean is :  500.5\n",
      "The give range median is :  500.5\n",
      "The give range variance is :  84846.88636363637\n",
      "The give range standard_deviation is :  291.2848886633777\n"
     ]
    }
   ],
   "source": [
    "arr = np.linspace(1, 1000, 100)\n",
    "mean = np.mean(arr)\n",
    "median = np.median(arr)\n",
    "variance = np.var(arr)\n",
    "standard_deviation =np.std(arr)\n",
    "\n",
    "print('The give range mean is : ',mean)\n",
    "print('The give range median is : ',median)\n",
    "print('The give range variance is : ',variance)\n",
    "print('The give range standard_deviation is : ',standard_deviation)"
   ]
  },
  {
   "cell_type": "markdown",
   "id": "a6d6a1e2-c8ba-424c-b3bc-7bf0e8c54729",
   "metadata": {},
   "source": [
    "###  62. Generate an array of 50 random numbers between 1 and 100. Find the 25th and 75th percentiles of the \n",
    "### dataset."
   ]
  },
  {
   "cell_type": "code",
   "execution_count": 20,
   "id": "a7d52b5f-b4dc-4842-a591-b22c093dd0bf",
   "metadata": {},
   "outputs": [
    {
     "name": "stdout",
     "output_type": "stream",
     "text": [
      "25% is : 26.0\n",
      "75% is : 76.0\n"
     ]
    }
   ],
   "source": [
    "arr = np.linspace(1, 101, 50)\n",
    "percentile_25 = np.percentile(arr, 25)\n",
    "percentile_75 = np.percentile(arr, 75)\n",
    "\n",
    "print('25% is :',percentile_25)\n",
    "print('75% is :',percentile_75)"
   ]
  },
  {
   "cell_type": "markdown",
   "id": "2a0ee278-f72a-4cc8-aadb-66fc5a86c9ef",
   "metadata": {},
   "source": [
    "###  63. Create two arrays representing two sets of variables. Compute the correlation coefficient between these \n",
    "### arrays using NumPy's `corrcoef` function."
   ]
  },
  {
   "cell_type": "code",
   "execution_count": null,
   "id": "8893a52c-126d-4a30-9736-5e1bdc300eda",
   "metadata": {},
   "outputs": [],
   "source": []
  },
  {
   "cell_type": "markdown",
   "id": "1ee6addd-c582-4bcd-8580-0f676947bffc",
   "metadata": {},
   "source": [
    "###  64. Create two matrices and perform matrix multiplication using NumPy's `dot` function."
   ]
  },
  {
   "cell_type": "code",
   "execution_count": 27,
   "id": "97d0ccdf-964b-4f1b-8632-c5681b87b517",
   "metadata": {},
   "outputs": [
    {
     "name": "stdout",
     "output_type": "stream",
     "text": [
      "[[17 33 29]\n",
      " [47 87 71]]\n"
     ]
    }
   ],
   "source": [
    "mat1 = np.matrix([[1, 2, 3],\n",
    "                  [4, 5, 6]])\n",
    "\n",
    "mat2 = np.matrix([[4, 7, 2], \n",
    "                  [5, 7, 9], \n",
    "                  [1, 4, 3]])\n",
    "\n",
    "multiply = np.dot(mat1, mat2)\n",
    "\n",
    "print(multiply)"
   ]
  },
  {
   "cell_type": "markdown",
   "id": "5ca84f4e-280a-4087-9eae-8b8bd82f6ac6",
   "metadata": {},
   "source": [
    "### 65. Create an array of 50 integers between 10 and 1000. Calculate the 10th, 50th (median), and 90th \n",
    "### percentiles along with the first and third quartiles."
   ]
  },
  {
   "cell_type": "code",
   "execution_count": 30,
   "id": "855dbdd1-b6b1-4335-84b7-8a9d4ce5f97e",
   "metadata": {},
   "outputs": [
    {
     "name": "stdout",
     "output_type": "stream",
     "text": [
      "Array: [144 113 566 484 610 223 582 670  79 770 713 290 863 565 181 803 720 559\n",
      " 605 903 932  95 744 258 617 145 730 905 995 211 993 571 770 560 902 358\n",
      " 670 579 818 701 368 399 458 912 555 455 438 979 189 167]\n",
      "\n",
      "\n",
      "10th Percentile: 164.8\n",
      "50th Percentile (Median): 575.0\n",
      "90th Percentile: 905.7\n",
      "First Quartile (Q1): 360.5\n",
      "Third Quartile (Q3): 763.5\n"
     ]
    }
   ],
   "source": [
    "\n",
    "arr = np.random.randint(10, 1001, 50)\n",
    "\n",
    "# Calculate percentiles\n",
    "percentile_10 = np.percentile(arr, 10)\n",
    "percentile_50 = np.percentile(arr, 50)  # median\n",
    "percentile_90 = np.percentile(arr, 90)\n",
    "\n",
    "\n",
    "q1 = np.percentile(arr, 25)  # First quartile\n",
    "q3 = np.percentile(arr, 75)  # Third quartile\n",
    "\n",
    "# Display results\n",
    "print(\"Array:\", arr)\n",
    "print('\\n')\n",
    "print(\"10th Percentile:\", percentile_10)\n",
    "print(\"50th Percentile (Median):\", percentile_50)\n",
    "print(\"90th Percentile:\", percentile_90)\n",
    "print(\"First Quartile (Q1):\", q1)\n",
    "print(\"Third Quartile (Q3):\", q3)\n"
   ]
  },
  {
   "cell_type": "markdown",
   "id": "e378fc38-94ca-431a-8214-e5b1431fcdc7",
   "metadata": {},
   "source": [
    "###   66. Create a NumPy array of integers and find the index of a specific element."
   ]
  },
  {
   "cell_type": "code",
   "execution_count": 7,
   "id": "5bacc9dc-7309-4c2c-96c4-34660718bc70",
   "metadata": {},
   "outputs": [
    {
     "name": "stdout",
     "output_type": "stream",
     "text": [
      "original array is : [  1   2   3   4   5   6 200]\n",
      "The specific element index is :  6\n"
     ]
    }
   ],
   "source": [
    "arr = np.array([1,2,3,4,5,6,200], dtype = int)\n",
    "a = 190\n",
    "index = np.searchsorted(arr, a)\n",
    "print('original array is :', arr)\n",
    "print('The specific element index is : ',index)"
   ]
  },
  {
   "cell_type": "markdown",
   "id": "ad082cd4-c4d1-45ef-b2ce-54c3556a388e",
   "metadata": {},
   "source": [
    "###  67. Generate a random NumPy array and sort it in ascending order."
   ]
  },
  {
   "cell_type": "code",
   "execution_count": 10,
   "id": "52ebd77c-48df-45a5-bc63-cf41b178ca25",
   "metadata": {},
   "outputs": [
    {
     "name": "stdout",
     "output_type": "stream",
     "text": [
      "Random array is : [15  3  4  1  5  9  9 18 13 18]\n",
      "sorted array is : [ 1  3  4  5  9  9 13 15 18 18]\n"
     ]
    }
   ],
   "source": [
    "arr = np.random.randint(1,20,10)\n",
    "sorted = np.sort(arr)\n",
    "print('Random array is :',arr)\n",
    "print('sorted array is :',sorted)"
   ]
  },
  {
   "cell_type": "markdown",
   "id": "988bd017-58d4-449a-9434-5be2620541b5",
   "metadata": {},
   "source": [
    "###  68. Filter elements >20  in the given NumPy array.\n",
    "###  arr = np.array([12, 25, 6, 42, 8, 30])"
   ]
  },
  {
   "cell_type": "code",
   "execution_count": 14,
   "id": "3457bf40-107e-438f-bad8-3fb01606f633",
   "metadata": {},
   "outputs": [
    {
     "name": "stdout",
     "output_type": "stream",
     "text": [
      "original array is : [12 25  6 42  8 30]\n",
      "elements >20 are : [25 42 30]\n"
     ]
    }
   ],
   "source": [
    "arr = np.array([12, 25, 6, 42, 8, 30])\n",
    "brr = arr[(arr>20)]\n",
    "print('original array is :',arr)\n",
    "print('elements >20 are :',brr)"
   ]
  },
  {
   "cell_type": "markdown",
   "id": "6ceaed3c-b206-4a7b-90af-6e8234410d3f",
   "metadata": {},
   "source": [
    "###  69. Filter elements which are divisible by 3 from a given NumPy array.\n",
    "###  arr = np.array([1, 5, 8, 12, 15])"
   ]
  },
  {
   "cell_type": "code",
   "execution_count": 24,
   "id": "88d8f2bd-e4c5-4bc6-9219-400357371589",
   "metadata": {},
   "outputs": [
    {
     "name": "stdout",
     "output_type": "stream",
     "text": [
      "original array is : [ 1  5  8 12 15]\n",
      "divisible by 3 element are : [12 15]\n"
     ]
    }
   ],
   "source": [
    "arr = np.array([1, 5, 8, 12, 15])\n",
    "result = arr[(arr %3 ==0)]\n",
    "\n",
    "print('original array is :',arr)\n",
    "print('divisible by 3 element are :',result)"
   ]
  },
  {
   "cell_type": "markdown",
   "id": "eb110024-fdd5-46df-ada4-5af1ea1e3bdf",
   "metadata": {},
   "source": [
    "### OR"
   ]
  },
  {
   "cell_type": "code",
   "execution_count": 26,
   "id": "cc4e1250-ed07-439e-a15f-1732738bda9f",
   "metadata": {},
   "outputs": [
    {
     "name": "stdout",
     "output_type": "stream",
     "text": [
      "divisible by 3 element are : [12, 15]\n"
     ]
    }
   ],
   "source": [
    "arr = np.array([1, 5, 8, 12, 15])\n",
    "result2 = []\n",
    "for i in arr:\n",
    "    if i%3 ==0:\n",
    "        result2.append(i)\n",
    "\n",
    "print('divisible by 3 element are :',result2)"
   ]
  },
  {
   "cell_type": "markdown",
   "id": "fa5738b9-ac95-4a02-bb1d-8e1d8873d585",
   "metadata": {},
   "source": [
    "###  70. Filter elements which are ≥ 20 and ≤ 40 from a given NumPy array.\n",
    "###  arr = np.array([10, 20, 30, 40, 50])"
   ]
  },
  {
   "cell_type": "code",
   "execution_count": 35,
   "id": "cfbde9f5-d88e-4b9b-ad67-0f257ae352a5",
   "metadata": {},
   "outputs": [
    {
     "name": "stdout",
     "output_type": "stream",
     "text": [
      "[20, 30, 40]\n"
     ]
    }
   ],
   "source": [
    "arr = np.array([10, 20, 30, 40, 50])\n",
    "result = []\n",
    "for i in arr:\n",
    "    if i>=20 and i<=40:\n",
    "        result.append(i)\n",
    "\n",
    "print(result)"
   ]
  },
  {
   "cell_type": "markdown",
   "id": "855d4d55-dfa6-4799-95a4-54b25ef05aec",
   "metadata": {},
   "source": [
    "###  71. For the given NumPy array, check its byte order using the `dtype` attribute byteorder.\n",
    "### arr = np.array([1, 2, 3])"
   ]
  },
  {
   "cell_type": "code",
   "execution_count": null,
   "id": "3bb930eb-013d-4266-b52e-fec68213f8ff",
   "metadata": {},
   "outputs": [],
   "source": []
  },
  {
   "cell_type": "markdown",
   "id": "829ed03b-9b42-4146-9f19-6665c89c9c1f",
   "metadata": {},
   "source": [
    "### 72. For the given NumPy array, perform byte swapping in place using `byteswap()`.\n",
    "###  arr = np.array([1, 2, 3], dtype=np.int32)"
   ]
  },
  {
   "cell_type": "code",
   "execution_count": null,
   "id": "9e00d11d-b626-4568-aa0d-873def88524a",
   "metadata": {},
   "outputs": [],
   "source": []
  },
  {
   "cell_type": "markdown",
   "id": "33104fb7-2aff-4799-881f-93bf26d07ee2",
   "metadata": {},
   "source": [
    "###  73. For the given NumPy array, swap its byte order without modifying the original array using \n",
    "### `newbyteorder()`.\n",
    "###  arr = np.array([1, 2, 3], dtype=np.int32)"
   ]
  },
  {
   "cell_type": "code",
   "execution_count": null,
   "id": "944fdb24-718f-4442-ad9f-40ab02d0da3f",
   "metadata": {},
   "outputs": [],
   "source": []
  },
  {
   "cell_type": "markdown",
   "id": "aa167804-33c2-49b8-b2e3-cd41e147ec7c",
   "metadata": {},
   "source": [
    "###  74. For the given NumPy array and swap its byte order conditionally based on system endianness using \n",
    "### `newbyteorder()`.\n",
    "###  arr = np.array([1, 2, 3], dtype=np.int32)"
   ]
  },
  {
   "cell_type": "code",
   "execution_count": null,
   "id": "8d66ba8a-9ede-4bb7-b2eb-a1862e9061af",
   "metadata": {},
   "outputs": [],
   "source": []
  },
  {
   "cell_type": "markdown",
   "id": "956ba719-23a4-4d12-a99d-87c1d035ef76",
   "metadata": {},
   "source": [
    "###  75. For the given NumPy array, check if byte swapping is necessary for the current system using `dtype` \n",
    "### attribute `byteorder`.\n",
    "###  arr = np.array([1, 2, 3], dtype=np.int32)"
   ]
  },
  {
   "cell_type": "code",
   "execution_count": null,
   "id": "41ee27e5-8b58-4726-9079-b04e0bdcc930",
   "metadata": {},
   "outputs": [],
   "source": []
  },
  {
   "cell_type": "markdown",
   "id": "fbc1ffe5-b9ce-42b8-8145-ec6173dafcf1",
   "metadata": {},
   "source": [
    "###  76. Create a NumPy array `arr1` with values from 1 to 10. Create a copy of `arr1` named `copy_arr` and modify \n",
    "### an element in `copy_arr`. Check if modifying `copy_arr` affects `arr1`."
   ]
  },
  {
   "cell_type": "code",
   "execution_count": 36,
   "id": "7d721aa3-bec6-4c90-8f73-37310333df4d",
   "metadata": {},
   "outputs": [
    {
     "name": "stdout",
     "output_type": "stream",
     "text": [
      "original array is : [15  2  3  4  5  6  7  8  9 10]\n",
      "modified array is  [15  2  3  4  5  6  7  8  9 10]\n"
     ]
    }
   ],
   "source": [
    "arr1 = np.array([1,2,3,4,5,6,7,8,9,10])\n",
    "copy_arr = arr1\n",
    "copy_arr[0] = 15\n",
    "print('original array is :',arr1)\n",
    "print('modified array is ',copy_arr)"
   ]
  },
  {
   "cell_type": "markdown",
   "id": "9b5519cf-bd36-4542-bdcc-fdc5e0eb5cd0",
   "metadata": {},
   "source": [
    "### 77. Create a 2D NumPy array `matrix` of shape (3, 3) with random integers. Extract a slice `view_slice` from \n",
    "### the matrix. Modify an element in `view_slice` and observe if it changes the original `matrix`."
   ]
  },
  {
   "cell_type": "code",
   "execution_count": null,
   "id": "3c9f1197-4d0c-4cd8-b427-fc51f9c27c3b",
   "metadata": {},
   "outputs": [],
   "source": []
  },
  {
   "cell_type": "markdown",
   "id": "de9b8e29-d23f-47f5-bf2a-d24b3abe695e",
   "metadata": {},
   "source": [
    "###  78. Create a NumPy array `array_a` of shape (4, 3) with sequential integers from 1 to 12. Extract a slice \n",
    "### `view_b` from `array_a` and broadcast the addition of 5 to view_b. Check if it alters the original `array_a`."
   ]
  },
  {
   "cell_type": "code",
   "execution_count": null,
   "id": "9ec4cd22-545a-4295-8a4a-547a61f06dbb",
   "metadata": {},
   "outputs": [],
   "source": []
  },
  {
   "cell_type": "markdown",
   "id": "3f5a3004-97ac-4793-a815-d13c4b9801e8",
   "metadata": {},
   "source": [
    "### 79. Create a NumPy array `orig_array` of shape (2, 4) with values from 1 to 8. Create a reshaped view \n",
    "### `reshaped_view` of shape (4, 2) from orig_array. Modify an element in `reshaped_view` and check if it \n",
    "### reflects changes in the original `orig_array`."
   ]
  },
  {
   "cell_type": "code",
   "execution_count": null,
   "id": "11fbe38d-fee2-457e-a3a2-aa662d2da0ac",
   "metadata": {},
   "outputs": [],
   "source": []
  },
  {
   "cell_type": "markdown",
   "id": "ac9a72ed-35a4-4568-a9fb-0ac33a4e7e7a",
   "metadata": {},
   "source": [
    "###  80. Create a NumPy array `data` of shape (3, 4) with random integers. Extract a copy `data_copy` of \n",
    "### elements greater than 5. Modify an element in `data_copy` and verify if it affects the original `data`."
   ]
  },
  {
   "cell_type": "code",
   "execution_count": null,
   "id": "d6add99a-c916-4b75-a146-6489aaa78273",
   "metadata": {},
   "outputs": [],
   "source": []
  },
  {
   "cell_type": "markdown",
   "id": "b6cbd3a9-7fe5-4e45-9612-a79ef5b0b33e",
   "metadata": {},
   "source": [
    "###  81. Create two matrices A and B of identical shape containing integers and perform addition and subtraction \n",
    "### operations between them."
   ]
  },
  {
   "cell_type": "code",
   "execution_count": 49,
   "id": "8f74d13b-94af-4130-9092-734247347cd1",
   "metadata": {},
   "outputs": [
    {
     "name": "stdout",
     "output_type": "stream",
     "text": [
      "Matrix addition is \n",
      ": [[12 14 16]\n",
      " [15 22 24]\n",
      " [26 28 30]]\n",
      "Matrix addition is \n",
      ": [[-10 -10 -10]\n",
      " [ -5 -10 -10]\n",
      " [-10 -10 -10]]\n"
     ]
    }
   ],
   "source": [
    "mat1 = np.matrix([[1, 2, 3], \n",
    "                  [5, 6, 7], \n",
    "                  [8, 9, 10]])\n",
    "\n",
    "mat2 = np.matrix([[11, 12, 13],\n",
    "                  [10, 16, 17], \n",
    "                  [18, 19, 20]])\n",
    "\n",
    "print('Matrix addition is \\n:', mat1 + mat2)\n",
    "print('Matrix addition is \\n:', mat1 - mat2)"
   ]
  },
  {
   "cell_type": "markdown",
   "id": "7aa8a576-563d-4616-8906-5cb5bddd9ee5",
   "metadata": {},
   "source": [
    "###  82. Generate two matrices `C` (3x2) and `D` (2x4) and perform matrix multiplication."
   ]
  },
  {
   "cell_type": "code",
   "execution_count": 47,
   "id": "fda5c063-ee4a-4df7-bcb4-683a9b8e3a2c",
   "metadata": {},
   "outputs": [
    {
     "data": {
      "text/plain": [
       "array([[24,  8, 11, 19],\n",
       "       [54, 20, 25, 45],\n",
       "       [84, 32, 39, 71]])"
      ]
     },
     "execution_count": 47,
     "metadata": {},
     "output_type": "execute_result"
    }
   ],
   "source": [
    "arr1 = np.array([[1, 2], \n",
    "                 [3, 4], \n",
    "                 [5,6]])\n",
    "arr2 = np.array([[6, 4, 3, 7],\n",
    "                 [9, 2, 4, 6]])\n",
    "arr1 @ arr2"
   ]
  },
  {
   "cell_type": "markdown",
   "id": "3d57c2b5-4f1f-400d-a1c7-bf7a9584cd60",
   "metadata": {},
   "source": [
    "###  83. Create a matrix `E` and find its transpose."
   ]
  },
  {
   "cell_type": "code",
   "execution_count": 46,
   "id": "0f0993b6-9890-4911-b74f-72caee23e4fa",
   "metadata": {},
   "outputs": [
    {
     "name": "stdout",
     "output_type": "stream",
     "text": [
      "Transpose matrix is : [[1 2 3 4]]\n"
     ]
    }
   ],
   "source": [
    "arr = np.array([[1], \n",
    "                [2], \n",
    "                [3], \n",
    "                [4]])\n",
    "\n",
    "print('Transpose matrix is :',arr.T)"
   ]
  },
  {
   "cell_type": "markdown",
   "id": "53af15da-2897-4375-bd0f-2cd72d7815ce",
   "metadata": {},
   "source": [
    "###  84. Generate a square matrix `F` and compute its determinant."
   ]
  },
  {
   "cell_type": "code",
   "execution_count": 42,
   "id": "4140b075-7468-4799-8108-b2c303f55072",
   "metadata": {},
   "outputs": [
    {
     "name": "stdout",
     "output_type": "stream",
     "text": [
      "Determinat is : 6.66133814775094e-16\n"
     ]
    }
   ],
   "source": [
    "arr = np.array([[1, 2, 3],\n",
    "                [4, 5, 6],\n",
    "                [7, 8, 9]])\n",
    "print('Determinat is :',np.linalg.det(arr))"
   ]
  },
  {
   "cell_type": "markdown",
   "id": "0bf79ac4-c9d9-4749-ad4d-2677080f7235",
   "metadata": {},
   "source": [
    "### 85. Create a square matrix `G` and find its inverse"
   ]
  },
  {
   "cell_type": "code",
   "execution_count": 43,
   "id": "cb5c6848-570a-464b-bc30-62073837016a",
   "metadata": {},
   "outputs": [
    {
     "name": "stdout",
     "output_type": "stream",
     "text": [
      "original array is \n",
      ": [[1. 0. 0.]\n",
      " [0. 1. 0.]\n",
      " [0. 0. 1.]]\n",
      "inverse matrix is \n",
      ": [[1. 0. 0.]\n",
      " [0. 1. 0.]\n",
      " [0. 0. 1.]]\n"
     ]
    }
   ],
   "source": [
    "arr = np.eye(3)\n",
    "print('original array is \\n:',arr)\n",
    "print(\"inverse matrix is \\n:\",np.linalg.inv(arr))"
   ]
  }
 ],
 "metadata": {
  "kernelspec": {
   "display_name": "Python 3 (ipykernel)",
   "language": "python",
   "name": "python3"
  },
  "language_info": {
   "codemirror_mode": {
    "name": "ipython",
    "version": 3
   },
   "file_extension": ".py",
   "mimetype": "text/x-python",
   "name": "python",
   "nbconvert_exporter": "python",
   "pygments_lexer": "ipython3",
   "version": "3.12.7"
  }
 },
 "nbformat": 4,
 "nbformat_minor": 5
}
